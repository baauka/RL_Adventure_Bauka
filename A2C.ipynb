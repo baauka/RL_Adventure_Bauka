{
 "cells": [
  {
   "cell_type": "code",
   "execution_count": null,
   "id": "82b94910",
   "metadata": {},
   "outputs": [],
   "source": [
    "from pyvirtualdisplay import Display\n",
    "\n",
    "virtual_display = Display(visible=0, size=(1400, 900))\n",
    "virtual_display.start()"
   ]
  },
  {
   "cell_type": "code",
   "execution_count": null,
   "id": "8162791f",
   "metadata": {},
   "outputs": [],
   "source": [
    "import os\n",
    "\n",
    "import gymnasium as gym\n",
    "import panda_gym\n",
    "\n",
    "from huggingface_sb3 import load_from_hub, package_to_hub\n",
    "\n",
    "from stable_baselines3 import A2C\n",
    "from stable_baselines3.common.evaluation import evaluate_policy\n",
    "from stable_baselines3.common.vec_env import DummyVecEnv, VecNormalize\n",
    "from stable_baselines3.common.env_util import make_vec_env\n",
    "\n",
    "from huggingface_hub import notebook_login"
   ]
  },
  {
   "cell_type": "code",
   "execution_count": null,
   "id": "28ebda0d",
   "metadata": {},
   "outputs": [],
   "source": [
    "env_id = \"PandaReachDense-v3\"\n",
    "\n",
    "env = gym.make(env_id)\n",
    "\n",
    "s_size = env.observation_space.shape\n",
    "a_size = env.action_space"
   ]
  },
  {
   "cell_type": "code",
   "execution_count": null,
   "id": "5d29c516",
   "metadata": {},
   "outputs": [],
   "source": [
    "env = make_vec_env(env_id, n_envs=4)\n",
    "\n",
    "# Adding this wrapper to normalize the observation and the reward\n",
    "env = VecNormalize(env, norm_obs=True, norm_reward=True)"
   ]
  },
  {
   "cell_type": "code",
   "execution_count": null,
   "id": "276de42a",
   "metadata": {},
   "outputs": [],
   "source": [
    "model = A2C(policy='MultiInputPolicy', env=env, verbose=1)"
   ]
  },
  {
   "cell_type": "code",
   "execution_count": null,
   "id": "357e776b",
   "metadata": {},
   "outputs": [],
   "source": [
    "model.learn(1_000_000)"
   ]
  },
  {
   "cell_type": "code",
   "execution_count": null,
   "id": "aef089f6",
   "metadata": {},
   "outputs": [],
   "source": [
    "model.save(\"a2c-PandaReachDense-v3\")\n",
    "env.save(\"vec_normalize.pkl\")"
   ]
  },
  {
   "cell_type": "code",
   "execution_count": null,
   "id": "5dd9df1b",
   "metadata": {},
   "outputs": [],
   "source": [
    "from stable_baselines3.common.vec_env import DummyVecEnv, VecNormalize\n",
    "\n",
    "eval_env = DummyVecEnv([lambda: gym.make(\"PandaReachDense-v3\")])\n",
    "eval_env = VecNormalize.load(\"vec_normalize.pkl\", eval_env)\n",
    "\n",
    "eval_env.render_mode = \"rgb_array\"\n",
    "\n",
    "#  do not update them at test time\n",
    "eval_env.training = False\n",
    "# reward normalization is not needed at test time\n",
    "eval_env.norm_reward = False\n",
    "\n",
    "model = A2C.load(\"a2c-PandaReachDense-v3\")\n",
    "\n",
    "mean_reward, std_reward = evaluate_policy(model, eval_env)\n",
    "\n",
    "print(f\"Mean reward = {mean_reward:.2f} +/- {std_reward:.2f}\")"
   ]
  }
 ],
 "metadata": {
  "language_info": {
   "name": "python"
  }
 },
 "nbformat": 4,
 "nbformat_minor": 5
}
